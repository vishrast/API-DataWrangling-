{
 "cells": [
  {
   "cell_type": "markdown",
   "metadata": {},
   "source": [
    "This exercise will require you to pull some data from https://data.nasdaq.com/ (formerly Quandl API)."
   ]
  },
  {
   "cell_type": "markdown",
   "metadata": {},
   "source": [
    "As a first step, you will need to register a free account on the https://data.nasdaq.com/ website."
   ]
  },
  {
   "cell_type": "markdown",
   "metadata": {},
   "source": [
    "After you register, you will be provided with a unique API key, that you should store:\n",
    "\n",
    "*Note*: Use a `.env` file and put your key in there and `python-dotenv` to access it in this notebook. \n",
    "\n",
    "The code below uses a key that was used when generating this project but has since been deleted. Never submit your keys to source control. There is a `.env-example` file in this repository to illusrtate what you need. Copy that to a file called `.env` and use your own api key in that `.env` file. Make sure you also have a `.gitignore` file with a line for `.env` added to it. \n",
    "\n",
    "The standard Python gitignore is [here](https://github.com/github/gitignore/blob/master/Python.gitignore) you can just copy that. "
   ]
  },
  {
   "cell_type": "code",
   "execution_count": 1,
   "metadata": {},
   "outputs": [],
   "source": [
    "#%env NASDAQ_API_KEY=''"
   ]
  },
  {
   "cell_type": "code",
   "execution_count": 2,
   "metadata": {},
   "outputs": [
    {
     "name": "stdout",
     "output_type": "stream",
     "text": [
      "Requirement already satisfied: python-dotenv in c:\\users\\vrastogi\\anaconda3\\lib\\site-packages (0.19.2)\n"
     ]
    }
   ],
   "source": [
    "!  pip3 install python-dotenv\n"
   ]
  },
  {
   "cell_type": "code",
   "execution_count": 3,
   "metadata": {},
   "outputs": [
    {
     "name": "stdout",
     "output_type": "stream",
     "text": [
      "None\n"
     ]
    }
   ],
   "source": [
    "\n",
    "# get api key from your .env file\n",
    "import os\n",
    "from dotenv import load_dotenv\n",
    "\n",
    "#load_dotenv()\n",
    "API_KEY = os.getenv('NASDAQ_API_KEY')\n",
    "\n",
    "print(API_KEY)"
   ]
  },
  {
   "cell_type": "markdown",
   "metadata": {},
   "source": [
    "Nasdaq Data has a large number of data sources, but, unfortunately, most of them require a Premium subscription. Still, there are also a good number of free datasets."
   ]
  },
  {
   "cell_type": "markdown",
   "metadata": {},
   "source": [
    "For this mini project, we will focus on equities data from the Frankfurt Stock Exhange (FSE), which is available for free. We'll try and analyze the stock prices of a company called Carl Zeiss Meditec, which manufactures tools for eye examinations, as well as medical lasers for laser eye surgery: https://www.zeiss.com/meditec/int/home.html. The company is listed under the stock ticker AFX_X."
   ]
  },
  {
   "cell_type": "markdown",
   "metadata": {},
   "source": [
    "You can find the detailed Nasdaq Data API instructions here: https://docs.data.nasdaq.com/docs/in-depth-usage"
   ]
  },
  {
   "cell_type": "markdown",
   "metadata": {},
   "source": [
    "While there is a dedicated Python package for connecting to the Nasdaq API, we would prefer that you use the *requests* package, which can be easily downloaded using *pip* or *conda*. You can find the documentation for the package here: http://docs.python-requests.org/en/master/ "
   ]
  },
  {
   "cell_type": "markdown",
   "metadata": {},
   "source": [
    "Finally, apart from the *requests* package, you are encouraged to not use any third party Python packages, such as *pandas*, and instead focus on what's available in the Python Standard Library (the *collections* module might come in handy: https://pymotw.com/3/collections/).\n",
    "Also, since you won't have access to DataFrames, you are encouraged to us Python's native data structures - preferably dictionaries, though some questions can also be answered using lists.\n",
    "You can read more on these data structures here: https://docs.python.org/3/tutorial/datastructures.html"
   ]
  },
  {
   "cell_type": "markdown",
   "metadata": {},
   "source": [
    "Keep in mind that the JSON responses you will be getting from the API map almost one-to-one to Python's dictionaries. Unfortunately, they can be very nested, so make sure you read up on indexing dictionaries in the documentation provided above."
   ]
  },
  {
   "cell_type": "code",
   "execution_count": 4,
   "metadata": {},
   "outputs": [],
   "source": [
    "# First, import the relevant modules\n",
    "# Import package\n",
    "import requests\n",
    "from bs4 import BeautifulSoup\n",
    "import json\n"
   ]
  },
  {
   "cell_type": "markdown",
   "metadata": {},
   "source": [
    "Note: API's can change a bit with each version, for this exercise it is reccomended to use the nasdaq api at `https://data.nasdaq.com/api/v3/`. This is the same api as what used to be quandl so `https://www.quandl.com/api/v3/` should work too.\n",
    "\n",
    "Hint: We are looking for the `AFX_X` data on the `datasets/FSE/` dataset."
   ]
  },
  {
   "cell_type": "code",
   "execution_count": 5,
   "metadata": {},
   "outputs": [
    {
     "name": "stdout",
     "output_type": "stream",
     "text": [
      "{\n",
      "  \"dataset\": {\n",
      "    \"id\": 10095370,\n",
      "    \"dataset_code\": \"AFX_X\",\n",
      "    \"database_code\": \"FSE\",\n",
      "    \"name\": \"Carl Zeiss Meditec (AFX_X)\",\n",
      "    \"description\": \"Stock Prices for Carl Zeiss Meditec (2020-11-02) from the Frankfurt Stock Exchange.<br><br>Trading System: Xetra<br><br>ISIN: DE0005313704\",\n",
      "    \"refreshed_at\": \"2020-12-01T14:48:09.907Z\",\n",
      "    \"newest_available_date\": \"2020-12-01\",\n",
      "    \"oldest_available_date\": \"2000-06-07\",\n",
      "    \"column_names\": [\n",
      "      \"Date\",\n",
      "      \"Open\",\n",
      "      \"High\",\n",
      "      \"Low\",\n",
      "      \"Close\",\n",
      "      \"Change\",\n",
      "      \"Traded Volume\",\n",
      "      \"Turnover\",\n",
      "      \"Last Price of the Day\",\n",
      "      \"Daily Traded Units\",\n",
      "      \"Daily Turnover\"\n",
      "    ],\n",
      "    \"frequency\": \"daily\",\n",
      "    \"type\": \"Time Series\",\n",
      "    \"premium\": false,\n",
      "    \"limit\": null,\n",
      "    \"transform\": null,\n",
      "    \"column_index\": null,\n",
      "    \"start_date\": \"2017-01-01\",\n",
      "    \"end_date\": \"2017-01-01\",\n",
      "    \"data\": [],\n",
      "    \"collapse\": null,\n",
      "    \"order\": null,\n",
      "    \"database_id\": 6129\n",
      "  }\n",
      "}\n"
     ]
    }
   ],
   "source": [
    "url = 'https://data.nasdaq.com/api/v3/datasets/FSE/AFX_X.json?start_date=2017-01-01&end_date=2017-01-01api_key=API_KEY'\n",
    "r=requests.get(url)\n",
    "json_data=r.json()\n",
    "print(json.dumps(json_data,indent=2))"
   ]
  },
  {
   "cell_type": "markdown",
   "metadata": {},
   "source": [
    "#  1 & 2Collecting Data for the year 2017 and converting into dictionary"
   ]
  },
  {
   "cell_type": "code",
   "execution_count": 6,
   "metadata": {},
   "outputs": [],
   "source": [
    "#Collect data from the Franfurt Stock Exchange, for the ticker AFX_X, \n",
    "#for the whole year 2017 (keep in mind that the date format is YYYY-MM-DD).\n",
    "# Assign URL to variable: url\n",
    "url = 'https://data.nasdaq.com/api/v3/datasets/FSE/AFX_X.json?start_date=2017-01-01&end_date=2017-12-31api_key=API_KEY'\n",
    "\n",
    "# Package the request, send the request and catch the response: r\n",
    "r=requests.get(url)\n",
    "\n",
    "# Decode the JSON data into a dictionary: json_data\n",
    "#Convert the returned JSON object into a Python dictionary.\n",
    "json_data17=r.json()"
   ]
  },
  {
   "cell_type": "code",
   "execution_count": 7,
   "metadata": {},
   "outputs": [
    {
     "data": {
      "text/plain": [
       "dict"
      ]
     },
     "execution_count": 7,
     "metadata": {},
     "output_type": "execute_result"
    }
   ],
   "source": [
    "type(json_data17)"
   ]
  },
  {
   "cell_type": "code",
   "execution_count": 9,
   "metadata": {},
   "outputs": [
    {
     "data": {
      "text/plain": [
       "dict_keys(['dataset'])"
      ]
     },
     "execution_count": 9,
     "metadata": {},
     "output_type": "execute_result"
    }
   ],
   "source": [
    "json_data17.keys()"
   ]
  },
  {
   "cell_type": "code",
   "execution_count": 10,
   "metadata": {},
   "outputs": [
    {
     "data": {
      "text/plain": [
       "dict_keys(['id', 'dataset_code', 'database_code', 'name', 'description', 'refreshed_at', 'newest_available_date', 'oldest_available_date', 'column_names', 'frequency', 'type', 'premium', 'limit', 'transform', 'column_index', 'start_date', 'end_date', 'data', 'collapse', 'order', 'database_id'])"
      ]
     },
     "execution_count": 10,
     "metadata": {},
     "output_type": "execute_result"
    }
   ],
   "source": [
    "json_data17['dataset'].keys()"
   ]
  },
  {
   "cell_type": "code",
   "execution_count": 11,
   "metadata": {},
   "outputs": [
    {
     "data": {
      "text/plain": [
       "['Date',\n",
       " 'Open',\n",
       " 'High',\n",
       " 'Low',\n",
       " 'Close',\n",
       " 'Change',\n",
       " 'Traded Volume',\n",
       " 'Turnover',\n",
       " 'Last Price of the Day',\n",
       " 'Daily Traded Units',\n",
       " 'Daily Turnover']"
      ]
     },
     "execution_count": 11,
     "metadata": {},
     "output_type": "execute_result"
    }
   ],
   "source": [
    "json_data17['dataset']['column_names']"
   ]
  },
  {
   "cell_type": "code",
   "execution_count": 12,
   "metadata": {},
   "outputs": [
    {
     "data": {
      "text/plain": [
       "[['2017-12-29',\n",
       "  51.76,\n",
       "  51.94,\n",
       "  51.45,\n",
       "  51.76,\n",
       "  None,\n",
       "  34640.0,\n",
       "  1792304.0,\n",
       "  None,\n",
       "  None,\n",
       "  None],\n",
       " ['2017-12-28',\n",
       "  51.65,\n",
       "  51.82,\n",
       "  51.43,\n",
       "  51.6,\n",
       "  None,\n",
       "  40660.0,\n",
       "  2099024.0,\n",
       "  None,\n",
       "  None,\n",
       "  None],\n",
       " ['2017-12-27',\n",
       "  51.45,\n",
       "  51.89,\n",
       "  50.76,\n",
       "  51.82,\n",
       "  None,\n",
       "  57452.0,\n",
       "  2957018.0,\n",
       "  None,\n",
       "  None,\n",
       "  None],\n",
       " ['2017-12-22',\n",
       "  51.05,\n",
       "  51.5,\n",
       "  50.92,\n",
       "  51.32,\n",
       "  None,\n",
       "  71165.0,\n",
       "  3641949.0,\n",
       "  None,\n",
       "  None,\n",
       "  None]]"
      ]
     },
     "execution_count": 12,
     "metadata": {},
     "output_type": "execute_result"
    }
   ],
   "source": [
    "json_data17['dataset']['data'][0:4]\n"
   ]
  },
  {
   "cell_type": "code",
   "execution_count": 13,
   "metadata": {},
   "outputs": [],
   "source": [
    "json_data17A=json_data17['dataset']['data']"
   ]
  },
  {
   "cell_type": "code",
   "execution_count": 14,
   "metadata": {},
   "outputs": [
    {
     "data": {
      "text/plain": [
       "list"
      ]
     },
     "execution_count": 14,
     "metadata": {},
     "output_type": "execute_result"
    }
   ],
   "source": [
    "type(json_data17A)"
   ]
  },
  {
   "cell_type": "markdown",
   "metadata": {},
   "source": [
    "# Calculate what the highest and lowest opening prices were for the stock in this period."
   ]
  },
  {
   "cell_type": "code",
   "execution_count": 15,
   "metadata": {},
   "outputs": [
    {
     "name": "stdout",
     "output_type": "stream",
     "text": [
      "[51.76, 51.65, 51.45, 51.05, 51.16, 51.88, 52.73, 52.37, 52.7, 53.11, 52.64, 52.29, 52.28, 51.5, 50.89, 50.8, 51.21, 49.5, 49.52, 48.64, 49.64, 49.09, 49.13, 49.11, 48.8, 48.4, 47.25, 46.57, 47.03, 47.09, 47.98, 48.4, 48.38, 47.3, 47.65, 46.42, 46.16, 45.81, 45.0, 45.88, 46.29, 46.53, 45.48, 45.2, 45.01, 45.16, 44.9, 45.08, 45.72, 46.01, 45.8, 45.61, 45.5, 45.58, 45.97, 45.64, 46.2, 46.19, 46.01, 45.36, 44.51, 43.58, 42.0, 42.35, 42.3, 42.3, 41.48, 42.29, 42.54, 42.65, 42.5, 42.29, 42.35, 42.49, 43.21, 42.81, 42.7, 43.0, 42.66, 43.0, 42.38, 42.16, 42.0, 42.0, 41.71, 42.11, 42.64, 42.72, 42.82, 42.46, 42.42, 42.28, 41.88, 42.4, 42.53, 42.12, 41.3, 41.73, 43.5, 44.9, 45.85, 45.13, 45.34, 45.25, 45.24, 44.94, 45.26, 45.16, 44.91, 44.7, 45.31, 45.57, 45.74, 45.06, 45.5, 45.6, 45.07, 44.67, 44.29, 44.94, 44.64, 44.79, 45.5, 44.67, 45.83, 45.29, 45.01, 45.73, 46.68, 47.23, 46.95, 47.29, 47.03, 47.46, 46.48, 46.9, 45.66, 46.34, 46.52, 46.5, 47.31, 46.77, 47.8, 47.01, 47.12, 46.8, 46.12, 45.22, 45.05, 45.61, 44.8, 44.8, 43.92, 43.67, 44.16, 43.74, 44.0, 45.06, 45.15, 45.09, 45.18, 43.4, 43.5, 41.83, 43.0, 42.52, 41.86, 42.2, 41.89, 42.17, 41.51, 41.88, 41.93, 42.01, 41.97, 42.5, 41.94, 42.24, 42.06, 42.02, 41.62, 41.46, 40.9, 40.96, 41.1, 39.5, 40.15, 39.77, 40.02, 39.39, 38.95, 38.73, 38.94, 39.01, 38.25, 41.8, 41.26, 41.47, 41.4, 41.4, 41.2, 41.4, 41.53, 41.61, 41.13, 41.5, 41.25, 41.12, 41.38, 41.19, 40.38, 39.75, 39.77, 39.72, 39.6, 38.85, 39.25, 38.8, 38.8, 38.5, 38.81, 37.37, 36.65, 36.2, 35.98, 35.56, 36.06, 36.02, 35.95, 34.75, 35.24, 35.38, 34.83, 35.07, 34.42, 34.0, 34.04, 34.54, 35.04, 35.04, 35.06, 34.85, 34.98, 35.38, 34.95, 34.8, 35.29, 34.91, 35.02, 35.48, 35.9, 34.99]\n"
     ]
    }
   ],
   "source": [
    "opening_price=[]\n",
    "for i in json_data17A:\n",
    "    if i[1]!=None:\n",
    "        opening_price.append(i[1])\n",
    "print(opening_price)"
   ]
  },
  {
   "cell_type": "code",
   "execution_count": 16,
   "metadata": {},
   "outputs": [
    {
     "name": "stdout",
     "output_type": "stream",
     "text": [
      "The highest opening price is: 53.11 The lowest opening prices is: 34.0\n"
     ]
    }
   ],
   "source": [
    "max_opening= max(opening_price)\n",
    "min_opening=min(opening_price)\n",
    "\n",
    "print(\"The highest opening price is:\", max_opening , \"The lowest opening prices is:\", min_opening)"
   ]
  },
  {
   "cell_type": "markdown",
   "metadata": {},
   "source": [
    "# What was the largest change in any one day (based on High and Low price)?"
   ]
  },
  {
   "cell_type": "code",
   "execution_count": 17,
   "metadata": {},
   "outputs": [
    {
     "name": "stdout",
     "output_type": "stream",
     "text": [
      "The maximum difference in highest and lowest price is: 2.81\n"
     ]
    }
   ],
   "source": [
    "diff_price=[]\n",
    "for i in json_data17A:\n",
    "    if i[1]!=None and i[2]!=None:\n",
    "        diff=i[2]-i[3]\n",
    "        diff_price.append(diff)\n",
    "highest_change = round(max(diff_price), 2)\n",
    "print(\"The maximum difference in highest and lowest price is:\", highest_change)"
   ]
  },
  {
   "cell_type": "markdown",
   "metadata": {},
   "source": [
    "# What was the largest change between any two days (based on Closing Price)?"
   ]
  },
  {
   "cell_type": "code",
   "execution_count": 18,
   "metadata": {},
   "outputs": [
    {
     "name": "stdout",
     "output_type": "stream",
     "text": [
      "The maximum change in one day: 2.56\n"
     ]
    }
   ],
   "source": [
    "closeprice=[]\n",
    "prevprice=[]\n",
    "for i in json_data17A:\n",
    "    if i[4]!=None:\n",
    "        closeprice.append(i[4])\n",
    "for j in json_data17A[1:]:\n",
    "    if j[4]!=None:\n",
    "        prevprice.append(j[4])\n",
    "price_diff=[]\n",
    "zip_object=zip(closeprice,prevprice)\n",
    "for closeprice_i,prevprice_i in zip_object:\n",
    "    price_diff.append(abs(closeprice_i-prevprice_i))\n",
    "print(\"The maximum change in one day:\",round(max(price_diff),2))\n",
    "\n",
    "\n",
    "\n",
    "   \n",
    "\n",
    "\n",
    "    \n"
   ]
  },
  {
   "cell_type": "markdown",
   "metadata": {},
   "source": [
    "# What was the average daily trading volume during this year?"
   ]
  },
  {
   "cell_type": "code",
   "execution_count": 19,
   "metadata": {},
   "outputs": [
    {
     "name": "stdout",
     "output_type": "stream",
     "text": [
      "The average daily trading volume is : 89124.34\n"
     ]
    }
   ],
   "source": [
    "daily_vol=[]\n",
    "for i in json_data17A:\n",
    "    if i[6]!=None:\n",
    "        daily_vol.append(i[6])\n",
    "avg_daily_vol=round((sum(daily_vol)/len(daily_vol)),2)\n",
    "print(\"The average daily trading volume is :\",avg_daily_vol)\n",
    "        "
   ]
  },
  {
   "cell_type": "markdown",
   "metadata": {},
   "source": [
    "# What was the median trading volume during this year. (Note: you may need to implement your own function for calculating the median.)"
   ]
  },
  {
   "cell_type": "code",
   "execution_count": 21,
   "metadata": {},
   "outputs": [
    {
     "name": "stdout",
     "output_type": "stream",
     "text": [
      " The median daily volume is: 76286.0\n"
     ]
    }
   ],
   "source": [
    "def median(lst):\n",
    "    n = len(lst)\n",
    "    s = sorted(lst)\n",
    "    return (s[n//2-1]/2.0+s[n//2]/2.0, s[n//2])[n % 2] if n else None\n",
    "print(\" The median daily volume is:\",median(daily_vol))\n",
    "#sorted_daily_vol=sorted(daily_vol)\n",
    "#print(sorted_daily_vol[0:15])\n",
    "#median_daily_vol=sorted_daily_vol[(round(len(sorted_daily_vol)/2))]\n",
    "#print(len(sorted_daily_vol))\n",
    "#print(median_daily_vol)\n",
    "#print(len(sorted_daily_vol))\n",
    "# Median volume is the 255"
   ]
  },
  {
   "cell_type": "markdown",
   "metadata": {},
   "source": [
    "These are your tasks for this mini project:\n",
    "\n",
    "1. Collect data from the Franfurt Stock Exchange, for the ticker AFX_X, for the whole year 2017 (keep in mind that the date format is YYYY-MM-DD).\n",
    "2. Convert the returned JSON object into a Python dictionary.\n",
    "3. Calculate what the highest and lowest opening prices were for the stock in this period.\n",
    "4. What was the largest change in any one day (based on High and Low price)?\n",
    "5. What was the largest change between any two days (based on Closing Price)?\n",
    "6. What was the average daily trading volume during this year?\n",
    "7. (Optional) What was the median trading volume during this year. (Note: you may need to implement your own function for calculating the median.)"
   ]
  },
  {
   "cell_type": "code",
   "execution_count": null,
   "metadata": {},
   "outputs": [],
   "source": []
  }
 ],
 "metadata": {
  "interpreter": {
   "hash": "7635eb1b9d0fe97add78a7368b6b431c09bb8ad5c42e437d64abdd99821c31ae"
  },
  "kernelspec": {
   "display_name": "Python 3 (ipykernel)",
   "language": "python",
   "name": "python3"
  },
  "language_info": {
   "codemirror_mode": {
    "name": "ipython",
    "version": 3
   },
   "file_extension": ".py",
   "mimetype": "text/x-python",
   "name": "python",
   "nbconvert_exporter": "python",
   "pygments_lexer": "ipython3",
   "version": "3.9.7"
  }
 },
 "nbformat": 4,
 "nbformat_minor": 4
}
